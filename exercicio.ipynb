{
 "cells": [
  {
   "cell_type": "code",
   "execution_count": 4,
   "id": "bbd09e7e",
   "metadata": {},
   "outputs": [
    {
     "name": "stdout",
     "output_type": "stream",
     "text": [
      "   survived  pclass     sex   age  sibsp  parch     fare embarked  class  \\\n",
      "0         0       3    male  22.0      1      0   7.2500        S  Third   \n",
      "1         1       1  female  38.0      1      0  71.2833        C  First   \n",
      "2         1       3  female  26.0      0      0   7.9250        S  Third   \n",
      "3         1       1  female  35.0      1      0  53.1000        S  First   \n",
      "4         0       3    male  35.0      0      0   8.0500        S  Third   \n",
      "\n",
      "     who  adult_male deck  embark_town alive  alone  \n",
      "0    man        True  NaN  Southampton    no  False  \n",
      "1  woman       False    C    Cherbourg   yes  False  \n",
      "2  woman       False  NaN  Southampton   yes   True  \n",
      "3  woman       False    C  Southampton   yes  False  \n",
      "4    man        True  NaN  Southampton    no   True  \n"
     ]
    }
   ],
   "source": [
    "import pandas as pd\n",
    "import numpy as np\n",
    "import seaborn as sns\n",
    "import matplotlib.pyplot as plt\n",
    "\n",
    "titanic = sns.load_dataset(\"titanic\")\n",
    "\n",
    "print(titanic.head())"
   ]
  },
  {
   "cell_type": "code",
   "execution_count": null,
   "id": "50a4019f",
   "metadata": {},
   "outputs": [],
   "source": [
    "\"\"\"\n",
    "- Quantas linhas e colunas tem o dataset?\n",
    "- Quais são os tipos de dados de cada coluna?\n",
    "- Verifique quantos valores ausentes existem em cada coluna.\n",
    "- Calcule estatísticas descritivas das colunas numéricas (média, mediana, etc.).\n",
    "\"\"\"\n",
    "\n",
    "print(titanic.info())\n",
    "# 891 linhas e 15 colunas\n",
    "\n",
    "print(titanic.isna().sum())\n",
    "\n",
    "print(titanic.describe())\n"
   ]
  },
  {
   "cell_type": "code",
   "execution_count": null,
   "id": "cf26c975",
   "metadata": {},
   "outputs": [],
   "source": [
    "\"\"\"\n",
    "## Exercício 2: Filtragem e Seleção\n",
    "\n",
    "- Selecione apenas os passageiros que sobreviveram.\n",
    "- Selecione apenas os passageiros da 1ª classe.\n",
    "- Selecione os passageiros que pagaram mais de $100 de tarifa E sobreviveram.\n",
    "- Selecione as mulheres que estavam na 1ª ou 2ª classe.\n",
    "\n",
    "\"\"\"\n",
    "\n",
    "sobreviventes = titanic[titanic['survived'] == 1]\n",
    "print(sobreviventes)\n",
    "\n",
    "primeira_classe = titanic[titanic['class'] == 'First']\n",
    "print(primeira_classe)\n",
    "\n",
    "pagamento_maior_que_100 = titanic[(titanic['fare'] > 100) & (titanic['survived'] == 1)]\n",
    "print(pagamento_maior_que_100)\n",
    "\n",
    "mulheres_primeira_ou_segunda_classe = titanic[(titanic['sex'] == 'female') & (titanic['class'].isin(['First', 'Second']))]\n",
    "print(mulheres_primeira_ou_segunda_classe)\n"
   ]
  },
  {
   "cell_type": "code",
   "execution_count": null,
   "id": "526b9a62",
   "metadata": {},
   "outputs": [],
   "source": [
    "\"\"\"\n",
    "## Exercício 3: Ordenação\n",
    "\n",
    "- Ordene os passageiros pela idade (do mais velho para o mais novo).\n",
    "- Ordene os passageiros por classe e depois por tarifa (do mais caro para o mais barato).\n",
    "- Encontre os 5 passageiros que pagaram as tarifas mais altas.\n",
    "\"\"\"\n",
    "\n",
    "passageiros_mais_velhos = titanic[titanic['age'].notna()].sort_values(by='age', ascending=False)\n",
    "print(passageiros_mais_velhos)\n",
    "\n",
    "classe_e_tarifa = titanic.sort_values(by=['class','fare'],ascending=[True,False])\n",
    "print(classe_e_tarifa)\n",
    "\n",
    "passageiros_tarifa_mais_alta = titanic.nlargest(5, 'fare')\n",
    "print(passageiros_tarifa_mais_alta)                                      \n"
   ]
  },
  {
   "cell_type": "code",
   "execution_count": null,
   "id": "6e131b18",
   "metadata": {},
   "outputs": [],
   "source": [
    "\"\"\"\n",
    "## Exercício 4: Tratamento de Valores Ausentes\n",
    "\n",
    "- Conte quantos passageiros não têm idade registrada.\n",
    "- Preencha as idades ausentes com a idade média.\n",
    "- Crie uma coluna 'idade_categoria' que classifique os passageiros em 'criança' (< 18), 'adulto' (18-60) e 'idoso' (> 60).\n",
    "- Remova completamente qualquer linha que ainda tenha dados ausentes após o tratamento da idade.\n",
    "\"\"\"\n",
    "\n",
    "passageiros_sem_idade = titanic[titanic['age'].isna()]\n",
    "print(passageiros_sem_idade)\n",
    "\n",
    "print(titanic.fillna(method='ffill'))\n",
    "\n",
    "# Usando np.select()\n",
    "condições = [\n",
    "    (titanic['age'] < 18),\n",
    "    (titanic['age'] >= 18) & (titanic['age'] <= 60),\n",
    "    (titanic['age'] > 60)\n",
    "]\n",
    "\n",
    "escolhas = ['criança', 'adulto', 'idoso']\n",
    "\n",
    "# Criar a coluna baseada nas condições\n",
    "titanic['idade_categoria'] = np.select(condições, escolhas, default='desconhecido')\n",
    "\n",
    "# Verificar resultado\n",
    "print(titanic[['age', 'idade_categoria']].head(10))\n",
    "\n",
    "sem_ausentes = titanic.dropna()\n",
    "print(sem_ausentes)\n"
   ]
  },
  {
   "cell_type": "code",
   "execution_count": null,
   "id": "35128a31",
   "metadata": {},
   "outputs": [],
   "source": [
    "\"\"\"\n",
    "## Exercício 5: Agrupamento e Agregação\n",
    "\n",
    "- Calcule a taxa de sobrevivência (percentual) por gênero.\n",
    "- Calcule a idade média dos passageiros por classe.\n",
    "- Para cada combinação de classe e sexo, calcule:\n",
    "  Número de passageiros\n",
    "  Taxa de sobrevivência\n",
    "  Tarifa média\n",
    "\n",
    "\"\"\""
   ]
  }
 ],
 "metadata": {
  "kernelspec": {
   "display_name": "venv",
   "language": "python",
   "name": "python3"
  },
  "language_info": {
   "codemirror_mode": {
    "name": "ipython",
    "version": 3
   },
   "file_extension": ".py",
   "mimetype": "text/x-python",
   "name": "python",
   "nbconvert_exporter": "python",
   "pygments_lexer": "ipython3",
   "version": "3.10.12"
  }
 },
 "nbformat": 4,
 "nbformat_minor": 5
}
